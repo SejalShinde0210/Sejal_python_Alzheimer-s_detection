{
  "cells": [
    {
      "cell_type": "code",
      "execution_count": null,
      "metadata": {
        "_cell_guid": "b1076dfc-b9ad-4769-8c92-a6c4dae69d19",
        "_uuid": "8f2839f25d086af736a60e9eeb907d3b93b6e0e5",
        "id": "oW85J6NcipOi",
        "trusted": true
      },
      "outputs": [],
      "source": [
        "# This Python 3 environment comes with many helpful analytics libraries installed\n",
        "# It is defined by the kaggle/python Docker image: https://github.com/kaggle/docker-python\n",
        "# For example, here's several helpful packages to load\n",
        "\n",
        "import numpy as np # linear algebra\n",
        "import pandas as pd # data processing, CSV file I/O (e.g. pd.read_csv)\n",
        "\n",
        "# Input data files are available in the read-only \"../input/\" directory\n",
        "# For example, running this (by clicking run or pressing Shift+Enter) will list all files under the input directory\n",
        "\n",
        "import os\n",
        "for dirname, _, filenames in os.walk('/kaggle/input'):\n",
        "    for filename in filenames:\n",
        "        print(os.path.join(dirname, filename))\n",
        "\n",
        "# You can write up to 20GB to the current directory (/kaggle/working/) that gets preserved as output when you create a version using \"Save & Run All\"\n",
        "# You can also write temporary files to /kaggle/temp/, but they won't be saved outside of the current session"
      ]
    },
    {
      "cell_type": "code",
      "execution_count": null,
      "metadata": {
        "execution": {
          "iopub.execute_input": "2025-01-02T19:04:52.372317Z",
          "iopub.status.busy": "2025-01-02T19:04:52.372025Z",
          "iopub.status.idle": "2025-01-02T19:04:56.792317Z",
          "shell.execute_reply": "2025-01-02T19:04:56.791339Z",
          "shell.execute_reply.started": "2025-01-02T19:04:52.372294Z"
        },
        "id": "VUc8dNamipOk",
        "outputId": "f681fab7-de55-47c0-aa74-0c401017076c",
        "trusted": true
      },
      "outputs": [
        {
          "name": "stdout",
          "output_type": "stream",
          "text": [
            "Requirement already satisfied: transformers in /usr/local/lib/python3.10/dist-packages (4.44.2)\n",
            "Requirement already satisfied: torch in /usr/local/lib/python3.10/dist-packages (2.4.1+cu121)\n",
            "Requirement already satisfied: datasets in /usr/local/lib/python3.10/dist-packages (3.2.0)\n",
            "Requirement already satisfied: scikit-learn in /usr/local/lib/python3.10/dist-packages (1.2.2)\n",
            "Requirement already satisfied: matplotlib in /usr/local/lib/python3.10/dist-packages (3.7.1)\n",
            "Requirement already satisfied: tqdm in /usr/local/lib/python3.10/dist-packages (4.66.5)\n",
            "Requirement already satisfied: filelock in /usr/local/lib/python3.10/dist-packages (from transformers) (3.16.1)\n",
            "Requirement already satisfied: huggingface-hub<1.0,>=0.23.2 in /usr/local/lib/python3.10/dist-packages (from transformers) (0.24.7)\n",
            "Requirement already satisfied: numpy>=1.17 in /usr/local/lib/python3.10/dist-packages (from transformers) (1.26.4)\n",
            "Requirement already satisfied: packaging>=20.0 in /usr/local/lib/python3.10/dist-packages (from transformers) (24.1)\n",
            "Requirement already satisfied: pyyaml>=5.1 in /usr/local/lib/python3.10/dist-packages (from transformers) (6.0.2)\n",
            "Requirement already satisfied: regex!=2019.12.17 in /usr/local/lib/python3.10/dist-packages (from transformers) (2024.9.11)\n",
            "Requirement already satisfied: requests in /usr/local/lib/python3.10/dist-packages (from transformers) (2.32.3)\n",
            "Requirement already satisfied: safetensors>=0.4.1 in /usr/local/lib/python3.10/dist-packages (from transformers) (0.4.5)\n",
            "Requirement already satisfied: tokenizers<0.20,>=0.19 in /usr/local/lib/python3.10/dist-packages (from transformers) (0.19.1)\n",
            "Requirement already satisfied: typing-extensions>=4.8.0 in /usr/local/lib/python3.10/dist-packages (from torch) (4.12.2)\n",
            "Requirement already satisfied: sympy in /usr/local/lib/python3.10/dist-packages (from torch) (1.13.3)\n",
            "Requirement already satisfied: networkx in /usr/local/lib/python3.10/dist-packages (from torch) (3.3)\n",
            "Requirement already satisfied: jinja2 in /usr/local/lib/python3.10/dist-packages (from torch) (3.1.4)\n",
            "Requirement already satisfied: fsspec in /usr/local/lib/python3.10/dist-packages (from torch) (2024.6.1)\n",
            "Requirement already satisfied: pyarrow>=15.0.0 in /usr/local/lib/python3.10/dist-packages (from datasets) (18.1.0)\n",
            "Requirement already satisfied: dill<0.3.9,>=0.3.0 in /usr/local/lib/python3.10/dist-packages (from datasets) (0.3.8)\n",
            "Requirement already satisfied: pandas in /usr/local/lib/python3.10/dist-packages (from datasets) (2.1.4)\n",
            "Requirement already satisfied: xxhash in /usr/local/lib/python3.10/dist-packages (from datasets) (3.5.0)\n",
            "Requirement already satisfied: multiprocess<0.70.17 in /usr/local/lib/python3.10/dist-packages (from datasets) (0.70.16)\n",
            "Requirement already satisfied: aiohttp in /usr/local/lib/python3.10/dist-packages (from datasets) (3.10.5)\n",
            "Requirement already satisfied: scipy>=1.3.2 in /usr/local/lib/python3.10/dist-packages (from scikit-learn) (1.13.1)\n",
            "Requirement already satisfied: joblib>=1.1.1 in /usr/local/lib/python3.10/dist-packages (from scikit-learn) (1.4.2)\n",
            "Requirement already satisfied: threadpoolctl>=2.0.0 in /usr/local/lib/python3.10/dist-packages (from scikit-learn) (3.5.0)\n",
            "Requirement already satisfied: contourpy>=1.0.1 in /usr/local/lib/python3.10/dist-packages (from matplotlib) (1.3.0)\n",
            "Requirement already satisfied: cycler>=0.10 in /usr/local/lib/python3.10/dist-packages (from matplotlib) (0.12.1)\n",
            "Requirement already satisfied: fonttools>=4.22.0 in /usr/local/lib/python3.10/dist-packages (from matplotlib) (4.53.1)\n",
            "Requirement already satisfied: kiwisolver>=1.0.1 in /usr/local/lib/python3.10/dist-packages (from matplotlib) (1.4.7)\n",
            "Requirement already satisfied: pillow>=6.2.0 in /usr/local/lib/python3.10/dist-packages (from matplotlib) (10.4.0)\n",
            "Requirement already satisfied: pyparsing>=2.3.1 in /usr/local/lib/python3.10/dist-packages (from matplotlib) (3.1.4)\n",
            "Requirement already satisfied: python-dateutil>=2.7 in /usr/local/lib/python3.10/dist-packages (from matplotlib) (2.8.2)\n",
            "Requirement already satisfied: aiohappyeyeballs>=2.3.0 in /usr/local/lib/python3.10/dist-packages (from aiohttp->datasets) (2.4.0)\n",
            "Requirement already satisfied: aiosignal>=1.1.2 in /usr/local/lib/python3.10/dist-packages (from aiohttp->datasets) (1.3.1)\n",
            "Requirement already satisfied: attrs>=17.3.0 in /usr/local/lib/python3.10/dist-packages (from aiohttp->datasets) (24.2.0)\n",
            "Requirement already satisfied: frozenlist>=1.1.1 in /usr/local/lib/python3.10/dist-packages (from aiohttp->datasets) (1.4.1)\n",
            "Requirement already satisfied: multidict<7.0,>=4.5 in /usr/local/lib/python3.10/dist-packages (from aiohttp->datasets) (6.1.0)\n",
            "Requirement already satisfied: yarl<2.0,>=1.0 in /usr/local/lib/python3.10/dist-packages (from aiohttp->datasets) (1.11.1)\n",
            "Requirement already satisfied: async-timeout<5.0,>=4.0 in /usr/local/lib/python3.10/dist-packages (from aiohttp->datasets) (4.0.3)\n",
            "Requirement already satisfied: six>=1.5 in /usr/local/lib/python3.10/dist-packages (from python-dateutil>=2.7->matplotlib) (1.16.0)\n",
            "Requirement already satisfied: charset-normalizer<4,>=2 in /usr/local/lib/python3.10/dist-packages (from requests->transformers) (3.3.2)\n",
            "Requirement already satisfied: idna<4,>=2.5 in /usr/local/lib/python3.10/dist-packages (from requests->transformers) (3.10)\n",
            "Requirement already satisfied: urllib3<3,>=1.21.1 in /usr/local/lib/python3.10/dist-packages (from requests->transformers) (2.2.3)\n",
            "Requirement already satisfied: certifi>=2017.4.17 in /usr/local/lib/python3.10/dist-packages (from requests->transformers) (2024.8.30)\n",
            "Requirement already satisfied: MarkupSafe>=2.0 in /usr/local/lib/python3.10/dist-packages (from jinja2->torch) (2.1.5)\n",
            "Requirement already satisfied: pytz>=2020.1 in /usr/local/lib/python3.10/dist-packages (from pandas->datasets) (2024.2)\n",
            "Requirement already satisfied: tzdata>=2022.1 in /usr/local/lib/python3.10/dist-packages (from pandas->datasets) (2024.1)\n",
            "Requirement already satisfied: mpmath<1.4,>=1.1.0 in /usr/local/lib/python3.10/dist-packages (from sympy->torch) (1.3.0)\n"
          ]
        }
      ],
      "source": [
        "# Step 1: Install Necessary Libraries\n",
        "# Ensure all necessary libraries are installed\n",
        "!pip install transformers torch datasets scikit-learn matplotlib tqdm\n"
      ]
    },
    {
      "cell_type": "code",
      "execution_count": null,
      "metadata": {
        "execution": {
          "iopub.execute_input": "2025-01-02T19:04:59.556528Z",
          "iopub.status.busy": "2025-01-02T19:04:59.556244Z",
          "iopub.status.idle": "2025-01-02T19:05:04.886458Z",
          "shell.execute_reply": "2025-01-02T19:05:04.885521Z",
          "shell.execute_reply.started": "2025-01-02T19:04:59.556507Z"
        },
        "id": "ShCwm4FEipOm",
        "trusted": true
      },
      "outputs": [],
      "source": [
        "# Step 2: Import Required Libraries\n",
        "from transformers import T5Tokenizer, T5ForConditionalGeneration\n",
        "from torch.utils.data import DataLoader, Dataset\n",
        "import torch\n",
        "import json\n",
        "import os\n",
        "import matplotlib.pyplot as plt\n",
        "from sklearn.metrics import accuracy_score\n"
      ]
    },
    {
      "cell_type": "code",
      "execution_count": null,
      "metadata": {
        "execution": {
          "iopub.execute_input": "2025-01-02T19:07:06.567089Z",
          "iopub.status.busy": "2025-01-02T19:07:06.566746Z",
          "iopub.status.idle": "2025-01-02T19:07:06.575413Z",
          "shell.execute_reply": "2025-01-02T19:07:06.574521Z",
          "shell.execute_reply.started": "2025-01-02T19:07:06.567065Z"
        },
        "id": "cdJT5dpTipOn",
        "trusted": true
      },
      "outputs": [],
      "source": [
        "class CustomDataset(Dataset):\n",
        "    def __init__(self, data_path, tokenizer, max_length=512):\n",
        "        self.data = self.load_data(data_path)\n",
        "        self.tokenizer = tokenizer\n",
        "        self.max_length = max_length\n",
        "\n",
        "    def load_data(self, file_path):\n",
        "        with open(file_path, 'r') as f:\n",
        "            return json.load(f)\n",
        "\n",
        "    def __len__(self):\n",
        "        return len(self.data)\n",
        "\n",
        "    def __getitem__(self, idx):\n",
        "        item = self.data[idx]\n",
        "        input_text = item.get('Text', '')\n",
        "        text_logic_form = item.get('Text_Logic_Forms', {}).get('Predicates', [])\n",
        "        diagram_logic_form = item.get('Diagram_Logic_Forms', {}).get('Predicates', [])\n",
        "\n",
        "        # Convert logic_form into a single string if it's a list\n",
        "        text_logic_form = ' '.join(text_logic_form) if isinstance(text_logic_form, list) else text_logic_form\n",
        "        diagram_logic_form = ' '.join(diagram_logic_form) if isinstance(diagram_logic_form, list) else diagram_logic_form\n",
        "\n",
        "        # Tokenize inputs\n",
        "        inputs = self.tokenizer(\n",
        "            input_text,\n",
        "            max_length=self.max_length,\n",
        "            padding=\"max_length\",\n",
        "            truncation=True,\n",
        "            return_tensors=\"pt\"\n",
        "        )\n",
        "\n",
        "        # Tokenize text labels (text logic form)\n",
        "        text_labels = self.tokenizer(\n",
        "            text_logic_form,\n",
        "            max_length=self.max_length,\n",
        "            padding=\"max_length\",\n",
        "            truncation=True,\n",
        "            return_tensors=\"pt\"\n",
        "        )\n",
        "\n",
        "        # Tokenize diagram labels (diagram logic form)\n",
        "        diagram_labels = self.tokenizer(\n",
        "            diagram_logic_form,\n",
        "            max_length=self.max_length,\n",
        "            padding=\"max_length\",\n",
        "            truncation=True,\n",
        "            return_tensors=\"pt\"\n",
        "        )\n",
        "\n",
        "        # Return both text and diagram labels\n",
        "        return {\n",
        "            'input_ids': inputs['input_ids'].squeeze(0),\n",
        "            'attention_mask': inputs['attention_mask'].squeeze(0),\n",
        "            'text_labels': text_labels['input_ids'].squeeze(0),\n",
        "            'diagram_labels': diagram_labels['input_ids'].squeeze(0)\n",
        "        }"
      ]
    },
    {
      "cell_type": "code",
      "execution_count": null,
      "metadata": {
        "execution": {
          "iopub.execute_input": "2025-01-02T19:07:27.597279Z",
          "iopub.status.busy": "2025-01-02T19:07:27.596979Z",
          "iopub.status.idle": "2025-01-02T19:07:30.377829Z",
          "shell.execute_reply": "2025-01-02T19:07:30.377074Z",
          "shell.execute_reply.started": "2025-01-02T19:07:27.597258Z"
        },
        "id": "caT3KFQ7ipOp",
        "trusted": true
      },
      "outputs": [],
      "source": [
        "# Step 4: Initialize Tokenizer and Model\n",
        "max_length = 256  # Reduce the maximum length\n",
        "tokenizer = T5Tokenizer.from_pretrained(\"google/flan-t5-small\")\n",
        "model = T5ForConditionalGeneration.from_pretrained(\"google/flan-t5-small\")\n",
        "\n",
        "\n",
        "train_dataset = CustomDataset(\n",
        "    data_path=\"/kaggle/input/llava-dataset/Llava/updatedID_train_data_final.json\",\n",
        "    #embeddings_path=\"/kaggle/input/llava-dataset/Llava/train_diagram_embeddings.json\",\n",
        "    tokenizer=tokenizer\n",
        ")\n",
        "\n",
        "test_dataset = CustomDataset(\n",
        "    data_path=\"/kaggle/input/llava-dataset/Llava/updatedID_test_data_final.json\",\n",
        "    #embeddings_path=\"/kaggle/input/llava-dataset/Llava/test_diagram_embeddings.json\",\n",
        "    tokenizer=tokenizer\n",
        ")\n",
        "\n",
        "\n",
        "train_loader = DataLoader(train_dataset, batch_size=4, shuffle=True)\n",
        "test_loader = DataLoader(test_dataset, batch_size=4, shuffle=False)"
      ]
    },
    {
      "cell_type": "code",
      "execution_count": null,
      "metadata": {
        "execution": {
          "iopub.execute_input": "2025-01-02T19:07:35.896643Z",
          "iopub.status.busy": "2025-01-02T19:07:35.896353Z",
          "iopub.status.idle": "2025-01-02T19:07:35.902026Z",
          "shell.execute_reply": "2025-01-02T19:07:35.901008Z",
          "shell.execute_reply.started": "2025-01-02T19:07:35.896621Z"
        },
        "id": "LfV3X0OTipOr",
        "trusted": true
      },
      "outputs": [],
      "source": [
        "# Update your training loop to handle both text and diagram labels\n",
        "def train_model(model, train_loader, optimizer, criterion, device):\n",
        "    model.train()\n",
        "    total_loss = 0\n",
        "    for batch in train_loader:\n",
        "        optimizer.zero_grad()\n",
        "\n",
        "        input_ids = batch['input_ids'].to(device)\n",
        "        attention_mask = batch['attention_mask'].to(device)\n",
        "        text_labels = batch['text_labels'].to(device)\n",
        "        diagram_labels = batch['diagram_labels'].to(device)\n",
        "\n",
        "        # You might need to concatenate or handle the two labels in a certain way\n",
        "        labels = torch.cat((text_labels, diagram_labels), dim=1)  # Concatenate if needed\n",
        "\n",
        "        outputs = model(\n",
        "            input_ids=input_ids,\n",
        "            attention_mask=attention_mask,\n",
        "            labels=labels\n",
        "        )\n",
        "\n",
        "        loss = outputs.loss\n",
        "        loss.backward()\n",
        "        optimizer.step()\n",
        "\n",
        "        total_loss += loss.item()\n",
        "\n",
        "    return total_loss / len(train_loader)\n"
      ]
    },
    {
      "cell_type": "code",
      "execution_count": null,
      "metadata": {
        "execution": {
          "iopub.execute_input": "2025-01-02T19:07:39.122585Z",
          "iopub.status.busy": "2025-01-02T19:07:39.12227Z",
          "iopub.status.idle": "2025-01-02T19:07:39.12879Z",
          "shell.execute_reply": "2025-01-02T19:07:39.127667Z",
          "shell.execute_reply.started": "2025-01-02T19:07:39.122558Z"
        },
        "id": "ajWpsyz6ipOs",
        "trusted": true
      },
      "outputs": [],
      "source": [
        "# Also, modify the evaluation function to handle both labels:\n",
        "def evaluate_model(model, test_loader, tokenizer, device):\n",
        "    model.eval()\n",
        "    predictions, targets = [], []\n",
        "\n",
        "    with torch.no_grad():\n",
        "        for batch in test_loader:\n",
        "            input_ids = batch['input_ids'].to(device)\n",
        "            attention_mask = batch['attention_mask'].to(device)\n",
        "            text_labels = batch['text_labels'].to(device)\n",
        "            diagram_labels = batch['diagram_labels'].to(device)\n",
        "\n",
        "            outputs = model.generate(input_ids=input_ids, attention_mask=attention_mask)\n",
        "\n",
        "            # Decode both sets of predictions\n",
        "            text_preds = [tokenizer.decode(ids, skip_special_tokens=True) for ids in outputs]\n",
        "            diagram_preds = [tokenizer.decode(ids, skip_special_tokens=True) for ids in outputs]\n",
        "\n",
        "            # Assuming we want to combine both for evaluation\n",
        "            predictions.extend(text_preds)\n",
        "            predictions.extend(diagram_preds)\n",
        "\n",
        "            text_targs = [tokenizer.decode(ids, skip_special_tokens=True) for ids in text_labels]\n",
        "            diagram_targs = [tokenizer.decode(ids, skip_special_tokens=True) for ids in diagram_labels]\n",
        "\n",
        "            targets.extend(text_targs)\n",
        "            targets.extend(diagram_targs)\n",
        "\n",
        "    accuracy = accuracy_score(targets, predictions)\n",
        "    return accuracy, predictions, targets\n"
      ]
    },
    {
      "cell_type": "code",
      "execution_count": null,
      "metadata": {
        "execution": {
          "iopub.execute_input": "2025-01-02T19:12:24.922392Z",
          "iopub.status.busy": "2025-01-02T19:12:24.922094Z",
          "iopub.status.idle": "2025-01-02T19:37:56.736159Z",
          "shell.execute_reply": "2025-01-02T19:37:56.735395Z",
          "shell.execute_reply.started": "2025-01-02T19:12:24.922371Z"
        },
        "id": "urBnQdLXipOt",
        "outputId": "ee904368-84b3-4276-8bf7-b56a5a93daf9",
        "trusted": true
      },
      "outputs": [
        {
          "name": "stdout",
          "output_type": "stream",
          "text": [
            "Running on GPU\n",
            "Starting training...\n",
            "Epoch 1/5 - Training...\n",
            "Train Loss for Epoch 1: 0.1602\n"
          ]
        },
        {
          "name": "stderr",
          "output_type": "stream",
          "text": [
            "/usr/local/lib/python3.10/dist-packages/transformers/generation/utils.py:1258: UserWarning: Using the model-agnostic default `max_length` (=20) to control the generation length. We recommend setting `max_new_tokens` to control the maximum length of the generation.\n",
            "  warnings.warn(\n"
          ]
        },
        {
          "name": "stdout",
          "output_type": "stream",
          "text": [
            "Test Accuracy for Epoch 1: 0.1568\n",
            "Epoch 1 complete.\n",
            "Train Loss: 0.1602\n",
            "Test Accuracy: 0.1568\n",
            "Epoch 2/5 - Training...\n",
            "Train Loss for Epoch 2: 0.1087\n"
          ]
        },
        {
          "name": "stderr",
          "output_type": "stream",
          "text": [
            "/usr/local/lib/python3.10/dist-packages/transformers/generation/utils.py:1258: UserWarning: Using the model-agnostic default `max_length` (=20) to control the generation length. We recommend setting `max_new_tokens` to control the maximum length of the generation.\n",
            "  warnings.warn(\n"
          ]
        },
        {
          "name": "stdout",
          "output_type": "stream",
          "text": [
            "Test Accuracy for Epoch 2: 0.1914\n",
            "Epoch 2 complete.\n",
            "Train Loss: 0.1087\n",
            "Test Accuracy: 0.1914\n",
            "Epoch 3/5 - Training...\n",
            "Train Loss for Epoch 3: 0.0946\n"
          ]
        },
        {
          "name": "stderr",
          "output_type": "stream",
          "text": [
            "/usr/local/lib/python3.10/dist-packages/transformers/generation/utils.py:1258: UserWarning: Using the model-agnostic default `max_length` (=20) to control the generation length. We recommend setting `max_new_tokens` to control the maximum length of the generation.\n",
            "  warnings.warn(\n"
          ]
        },
        {
          "name": "stdout",
          "output_type": "stream",
          "text": [
            "Test Accuracy for Epoch 3: 0.2013\n",
            "Epoch 3 complete.\n",
            "Train Loss: 0.0946\n",
            "Test Accuracy: 0.2013\n",
            "Epoch 4/5 - Training...\n",
            "Train Loss for Epoch 4: 0.0865\n"
          ]
        },
        {
          "name": "stderr",
          "output_type": "stream",
          "text": [
            "/usr/local/lib/python3.10/dist-packages/transformers/generation/utils.py:1258: UserWarning: Using the model-agnostic default `max_length` (=20) to control the generation length. We recommend setting `max_new_tokens` to control the maximum length of the generation.\n",
            "  warnings.warn(\n"
          ]
        },
        {
          "name": "stdout",
          "output_type": "stream",
          "text": [
            "Test Accuracy for Epoch 4: 0.2030\n",
            "Epoch 4 complete.\n",
            "Train Loss: 0.0865\n",
            "Test Accuracy: 0.2030\n",
            "Epoch 5/5 - Training...\n",
            "Train Loss for Epoch 5: 0.0811\n"
          ]
        },
        {
          "name": "stderr",
          "output_type": "stream",
          "text": [
            "/usr/local/lib/python3.10/dist-packages/transformers/generation/utils.py:1258: UserWarning: Using the model-agnostic default `max_length` (=20) to control the generation length. We recommend setting `max_new_tokens` to control the maximum length of the generation.\n",
            "  warnings.warn(\n"
          ]
        },
        {
          "name": "stdout",
          "output_type": "stream",
          "text": [
            "Test Accuracy for Epoch 5: 0.2178\n",
            "Epoch 5 complete.\n",
            "Train Loss: 0.0811\n",
            "Test Accuracy: 0.2178\n",
            "Training complete.\n"
          ]
        }
      ],
      "source": [
        "# Step 8: Initialize Optimizer and Criterion\n",
        "optimizer = torch.optim.AdamW(model.parameters(), lr=5e-5)\n",
        "device = torch.device(\"cuda\" if torch.cuda.is_available() else \"cpu\")\n",
        "\n",
        "# Print if running on GPU or CPU\n",
        "if torch.cuda.is_available():\n",
        "    print(\"Running on GPU\")\n",
        "else:\n",
        "    print(\"Running on CPU\")\n",
        "\n",
        "# Move model to the appropriate device\n",
        "model.to(device)\n",
        "\n",
        "# Step 9: Train and Evaluate the Model\n",
        "epochs = 5\n",
        "train_losses = []\n",
        "test_accuracies = []\n",
        "\n",
        "print(\"Starting training...\")\n",
        "\n",
        "for epoch in range(epochs):\n",
        "    print(f\"Epoch {epoch + 1}/{epochs} - Training...\")\n",
        "\n",
        "    # Train the model and get the train loss\n",
        "    train_loss = train_model(model, train_loader, optimizer, None, device)\n",
        "    print(f\"Train Loss for Epoch {epoch + 1}: {train_loss:.4f}\")\n",
        "\n",
        "    # Evaluate the model and get the accuracy\n",
        "    accuracy, _, _ = evaluate_model(model, test_loader, tokenizer, device)\n",
        "    print(f\"Test Accuracy for Epoch {epoch + 1}: {accuracy:.4f}\")\n",
        "\n",
        "    # Append results to lists\n",
        "    train_losses.append(train_loss)\n",
        "    test_accuracies.append(accuracy)\n",
        "\n",
        "    # Print the current epoch's progress\n",
        "    print(f\"Epoch {epoch + 1} complete.\")\n",
        "    print(f\"Train Loss: {train_loss:.4f}\")\n",
        "    print(f\"Test Accuracy: {accuracy:.4f}\")\n",
        "\n",
        "print(\"Training complete.\")\n",
        "\n"
      ]
    },
    {
      "cell_type": "code",
      "execution_count": null,
      "metadata": {
        "execution": {
          "iopub.execute_input": "2025-01-02T19:38:12.350608Z",
          "iopub.status.busy": "2025-01-02T19:38:12.350298Z",
          "iopub.status.idle": "2025-01-02T19:38:12.663969Z",
          "shell.execute_reply": "2025-01-02T19:38:12.663114Z",
          "shell.execute_reply.started": "2025-01-02T19:38:12.350569Z"
        },
        "id": "cGw9g1-AipOu",
        "outputId": "e4651073-fe42-4cd2-e776-1dc710abc48f",
        "trusted": true
      },
      "outputs": [
        {
          "data": {
            "image/png": "[encoded data removed]",
            "text/plain": [
              "<Figure size 1200x600 with 1 Axes>"
            ]
          },
          "metadata": {},
          "output_type": "display_data"
        }
      ],
      "source": [
        "# Step 10: Visualize Results\n",
        "plt.figure(figsize=(12, 6))\n",
        "plt.plot(range(epochs), train_losses, label=\"Train Loss\")\n",
        "plt.plot(range(epochs), test_accuracies, label=\"Test Accuracy\")\n",
        "plt.xlabel(\"Epoch\")\n",
        "plt.ylabel(\"Value\")\n",
        "plt.title(\"Training Loss and Test Accuracy\")\n",
        "plt.legend()\n",
        "plt.show()"
      ]
    },
    {
      "cell_type": "code",
      "execution_count": null,
      "metadata": {
        "execution": {
          "iopub.execute_input": "2025-01-02T19:41:44.886361Z",
          "iopub.status.busy": "2025-01-02T19:41:44.886035Z",
          "iopub.status.idle": "2025-01-02T19:41:44.890059Z",
          "shell.execute_reply": "2025-01-02T19:41:44.889208Z",
          "shell.execute_reply.started": "2025-01-02T19:41:44.886333Z"
        },
        "id": "LYe8hRcjipOv",
        "trusted": true
      },
      "outputs": [],
      "source": [
        "import torch\n",
        "import json\n",
        "import os"
      ]
    },
    {
      "cell_type": "code",
      "execution_count": null,
      "metadata": {
        "id": "lu-num77ipOv",
        "trusted": true
      },
      "outputs": [],
      "source": []
    }
  ],
  "metadata": {
    "colab": {
      "name": "final_flan_t5_model_working",
      "provenance": []
    },
    "kaggle": {
      "accelerator": "gpu",
      "dataSources": [
        {
          "datasetId": 6414767,
          "sourceId": 10358069,
          "sourceType": "datasetVersion"
        }
      ],
      "dockerImageVersionId": 30823,
      "isGpuEnabled": true,
      "isInternetEnabled": true,
      "language": "python",
      "sourceType": "notebook"
    },
    "kernelspec": {
      "display_name": "Python 3",
      "language": "python",
      "name": "python3"
    },
    "language_info": {
      "codemirror_mode": {
        "name": "ipython",
        "version": 3
      },
      "file_extension": ".py",
      "mimetype": "text/x-python",
      "name": "python",
      "nbconvert_exporter": "python",
      "pygments_lexer": "ipython3",
      "version": "3.10.12"
    }
  },
  "nbformat": 4,
  "nbformat_minor": 0
}
